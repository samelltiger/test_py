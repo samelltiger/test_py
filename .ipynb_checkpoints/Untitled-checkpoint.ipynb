{
 "cells": [
  {
   "cell_type": "code",
   "execution_count": 1,
   "metadata": {},
   "outputs": [],
   "source": [
    "import pandas as pd\n",
    "import numpy as np\n",
    "import matplotlib.pyplot as plt\n",
    "import jieba\n",
    "import gensim\n",
    "import re"
   ]
  },
  {
   "cell_type": "markdown",
   "metadata": {},
   "source": [
    "### 预处理数据"
   ]
  },
  {
   "cell_type": "code",
   "execution_count": 70,
   "metadata": {
    "scrolled": false
   },
   "outputs": [],
   "source": [
    "def read_data(file_name,is_train=True):\n",
    "    data_df = pd.read_csv(file_name,encoding='gbk')\n",
    "    if is_train:\n",
    "        data_df.columns = ['names','price','catgory']\n",
    "    else:\n",
    "        data_df.columns = ['names','price']\n",
    "    data_df['length'] = data_df.names.apply(lambda x:len(x))\n",
    "    return data_df\n",
    "\n",
    "# def cut_seq(x):\n",
    "\n",
    "train_df = read_data('./train.csv')\n",
    "test_df = read_data('./test.csv',is_train=False)\n",
    "\n",
    "stop_word_df = pd.read_csv('./stopwords.txt',sep='\\t',quoting=3,index_col=False,names=['word'])\n",
    "stop_word_df = stop_word_df['word'].values.tolist()\n",
    "\n",
    "train_df['cutted'] = train_df.names.apply( lambda x: jieba.lcut(x) )\n",
    "train_df['cutted'] = train_df.cutted.apply(lambda x: \" \".join([w for w in x if x not in stop_word_df]))\n",
    "\n",
    "test_df['cutted'] = test_df.names.apply( lambda x: jieba.lcut(x) )\n",
    "test_df['cutted'] = test_df.cutted.apply(lambda x: \" \".join([w for w in x if x not in stop_word_df]))"
   ]
  },
  {
   "cell_type": "code",
   "execution_count": 72,
   "metadata": {},
   "outputs": [
    {
     "data": {
      "text/html": [
       "<div>\n",
       "<style scoped>\n",
       "    .dataframe tbody tr th:only-of-type {\n",
       "        vertical-align: middle;\n",
       "    }\n",
       "\n",
       "    .dataframe tbody tr th {\n",
       "        vertical-align: top;\n",
       "    }\n",
       "\n",
       "    .dataframe thead th {\n",
       "        text-align: right;\n",
       "    }\n",
       "</style>\n",
       "<table border=\"1\" class=\"dataframe\">\n",
       "  <thead>\n",
       "    <tr style=\"text-align: right;\">\n",
       "      <th></th>\n",
       "      <th>names</th>\n",
       "      <th>price</th>\n",
       "      <th>length</th>\n",
       "      <th>cutted</th>\n",
       "    </tr>\n",
       "  </thead>\n",
       "  <tbody>\n",
       "    <tr>\n",
       "      <th>4193</th>\n",
       "      <td>星臣STARSUN民谣吉他木吉他初学者自弹吉它JITA吉他乐器升级版DG220C-X黑色缺角亮光</td>\n",
       "      <td>76</td>\n",
       "      <td>48</td>\n",
       "      <td>星臣 STARSUN 民谣吉他 木吉他 初学者 自弹 吉它 JITA 吉他 乐器 升级版 D...</td>\n",
       "    </tr>\n",
       "    <tr>\n",
       "      <th>387</th>\n",
       "      <td>初朵保鲜花速递粉色永生玫瑰花小公主玻璃罩火树银花亮灯款七夕情人节礼物送女友送老婆生日纪念日礼</td>\n",
       "      <td>76</td>\n",
       "      <td>46</td>\n",
       "      <td>初朵 保 鲜花 速递 粉色 永生 玫瑰花 小 公主 玻璃罩 火树银花 亮灯 款 七夕 情人节...</td>\n",
       "    </tr>\n",
       "    <tr>\n",
       "      <th>436</th>\n",
       "      <td>大脚象HDM08FG海尔洗衣机底座托架西门子不锈钢滚筒松下三洋小天鹅垫高冰箱底座固定加高支架</td>\n",
       "      <td>76</td>\n",
       "      <td>46</td>\n",
       "      <td>大脚 象 HDM08FG 海尔 洗衣机 底座 托架 西门子 不锈钢 滚筒 松下 三洋 小天鹅...</td>\n",
       "    </tr>\n",
       "    <tr>\n",
       "      <th>247</th>\n",
       "      <td>博侯马2017女装夏韩版女装喇叭袖印花雪纺连衣裙女中长款夏季显瘦裙子ZX176508图片色</td>\n",
       "      <td>152</td>\n",
       "      <td>45</td>\n",
       "      <td>博 侯马 2017 女装 夏 韩版 女装 喇叭 袖 印花 雪纺 连衣裙 女中 长款 夏季 显...</td>\n",
       "    </tr>\n",
       "    <tr>\n",
       "      <th>4439</th>\n",
       "      <td>亿色SURFACEBOOK钢化玻璃膜高清防刮屏幕保护贴膜微软SURFACEBOOK专用</td>\n",
       "      <td>70</td>\n",
       "      <td>43</td>\n",
       "      <td>亿色 SURFACEBOOK 钢化玻璃 膜 高清 防刮 屏幕 保护 贴膜 微软 SURFAC...</td>\n",
       "    </tr>\n",
       "  </tbody>\n",
       "</table>\n",
       "</div>"
      ],
      "text/plain": [
       "                                                 names  price  length  \\\n",
       "4193  星臣STARSUN民谣吉他木吉他初学者自弹吉它JITA吉他乐器升级版DG220C-X黑色缺角亮光     76      48   \n",
       "387     初朵保鲜花速递粉色永生玫瑰花小公主玻璃罩火树银花亮灯款七夕情人节礼物送女友送老婆生日纪念日礼     76      46   \n",
       "436     大脚象HDM08FG海尔洗衣机底座托架西门子不锈钢滚筒松下三洋小天鹅垫高冰箱底座固定加高支架     76      46   \n",
       "247      博侯马2017女装夏韩版女装喇叭袖印花雪纺连衣裙女中长款夏季显瘦裙子ZX176508图片色    152      45   \n",
       "4439       亿色SURFACEBOOK钢化玻璃膜高清防刮屏幕保护贴膜微软SURFACEBOOK专用     70      43   \n",
       "\n",
       "                                                 cutted  \n",
       "4193  星臣 STARSUN 民谣吉他 木吉他 初学者 自弹 吉它 JITA 吉他 乐器 升级版 D...  \n",
       "387   初朵 保 鲜花 速递 粉色 永生 玫瑰花 小 公主 玻璃罩 火树银花 亮灯 款 七夕 情人节...  \n",
       "436   大脚 象 HDM08FG 海尔 洗衣机 底座 托架 西门子 不锈钢 滚筒 松下 三洋 小天鹅...  \n",
       "247   博 侯马 2017 女装 夏 韩版 女装 喇叭 袖 印花 雪纺 连衣裙 女中 长款 夏季 显...  \n",
       "4439  亿色 SURFACEBOOK 钢化玻璃 膜 高清 防刮 屏幕 保护 贴膜 微软 SURFAC...  "
      ]
     },
     "execution_count": 72,
     "metadata": {},
     "output_type": "execute_result"
    }
   ],
   "source": [
    "#train_df.sort_values(by='length',ascending=False).head()\n",
    "test_df.sort_values(by='length',ascending=False).head()"
   ]
  },
  {
   "cell_type": "markdown",
   "metadata": {},
   "source": [
    "## 把数据提取为list"
   ]
  },
  {
   "cell_type": "code",
   "execution_count": 30,
   "metadata": {},
   "outputs": [],
   "source": [
    "from sklearn.model_selection import train_test_split\n",
    "\n",
    "X = [i for i in train_df.cutted]\n",
    "Y = [i for i in train_df.catgory]\n",
    "# 测试集中的\n",
    "test_text = [i for i in train_df.cutted]\n",
    "\n",
    "X_train,X_test,y_train,y_test = train_test_split(X,Y,test_size=0.3,random_state=10)"
   ]
  },
  {
   "cell_type": "code",
   "execution_count": 31,
   "metadata": {
    "scrolled": false
   },
   "outputs": [
    {
     "name": "stdout",
     "output_type": "stream",
     "text": [
      "['阿波罗 之梦 AD156 玫瑰花 爱心 杯子 套装 送 女友 老婆 女生 生日', '阿波罗 之梦 AD162 玫瑰花 爱心 杯子 套装', '阿波罗 之梦 AD162 玫瑰花 爱心 杯子 套装 送 女友 老婆 女生 生日礼物 实用 闺蜜 妈妈 情人节 创意 礼物 表白 结婚 纪', '阿道夫 精油 沐浴 原液', '阿德福 韦酯 胶囊', '阿德福 韦酯 片', '阿迪达斯 ADIDAS2017 春 男子 NOTSPORTSSPECIFIC 系列 夹克', '阿迪达斯 激情 男士 沐浴露', '阿迪达斯 女士 干爽 型 走 珠香 体液', '阿迪达斯 女士 沐浴露 牛奶 润净']\n",
      "[109, 107, 109, 104, 103, 107, 109, 104, 103, 106]\n"
     ]
    }
   ],
   "source": [
    "print(X[:10])\n",
    "print(y_train[:10])"
   ]
  },
  {
   "cell_type": "markdown",
   "metadata": {},
   "source": [
    "## 词袋模型"
   ]
  },
  {
   "cell_type": "code",
   "execution_count": 57,
   "metadata": {},
   "outputs": [
    {
     "data": {
      "text/plain": [
       "CountVectorizer(analyzer='word', binary=False, decode_error='strict',\n",
       "        dtype=<class 'numpy.int64'>, encoding='utf-8', input='content',\n",
       "        lowercase=True, max_df=1.0, max_features=4000, min_df=1,\n",
       "        ngram_range=(1, 1), preprocessor=None, stop_words=None,\n",
       "        strip_accents=None, token_pattern='(?u)\\\\b\\\\w\\\\w+\\\\b',\n",
       "        tokenizer=None, vocabulary=None)"
      ]
     },
     "execution_count": 57,
     "metadata": {},
     "output_type": "execute_result"
    }
   ],
   "source": [
    "from sklearn.feature_extraction.text import CountVectorizer\n",
    "\n",
    "vec = CountVectorizer(\n",
    "    analyzer='word',\n",
    "    max_features=4000\n",
    ")\n",
    "vec.fit(X)"
   ]
  },
  {
   "cell_type": "markdown",
   "metadata": {},
   "source": [
    "## 测试"
   ]
  },
  {
   "cell_type": "code",
   "execution_count": 69,
   "metadata": {},
   "outputs": [
    {
     "name": "stdout",
     "output_type": "stream",
     "text": [
      "0.696\n",
      "[[3.14865395e-03 2.56072336e-04 3.19937770e-02 2.91143675e-02\n",
      "  9.45331389e-03 6.19073706e-01 3.71596771e-02 9.11693847e-02\n",
      "  1.78117879e-01 5.13167939e-04]]\n"
     ]
    }
   ],
   "source": [
    "from sklearn.naive_bayes import MultinomialNB\n",
    "import sklearn\n",
    "\n",
    "classifier = MultinomialNB()\n",
    "classifier.fit(vec.transform(X_train),y_train)\n",
    "print(classifier.score(vec.transform(X_test),y_test))\n",
    "print(classifier.predict_proba(vec.transform([X_test[0]])))"
   ]
  },
  {
   "cell_type": "code",
   "execution_count": 62,
   "metadata": {
    "scrolled": true
   },
   "outputs": [
    {
     "name": "stdout",
     "output_type": "stream",
     "text": [
      "Help on method predict in module sklearn.svm.base:\n",
      "\n",
      "predict(X) method of sklearn.svm.classes.SVC instance\n",
      "    Perform classification on samples in X.\n",
      "    \n",
      "    For an one-class model, +1 or -1 is returned.\n",
      "    \n",
      "    Parameters\n",
      "    ----------\n",
      "    X : {array-like, sparse matrix}, shape (n_samples, n_features)\n",
      "        For kernel=\"precomputed\", the expected shape of X is\n",
      "        [n_samples_test, n_samples_train]\n",
      "    \n",
      "    Returns\n",
      "    -------\n",
      "    y_pred : array, shape (n_samples,)\n",
      "        Class labels for samples in X.\n",
      "\n"
     ]
    }
   ],
   "source": [
    "help(classifier.predict)"
   ]
  },
  {
   "cell_type": "code",
   "execution_count": 60,
   "metadata": {},
   "outputs": [
    {
     "name": "stdout",
     "output_type": "stream",
     "text": [
      "0.655\n"
     ]
    }
   ],
   "source": [
    "from sklearn.svm import SVC\n",
    "\n",
    "classifier = SVC(kernel='linear')\n",
    "classifier.fit(vec.transform(X_train),y_train)\n",
    "print(classifier.score(vec.transform(X_test),y_test))"
   ]
  },
  {
   "cell_type": "code",
   "execution_count": 48,
   "metadata": {},
   "outputs": [
    {
     "name": "stdout",
     "output_type": "stream",
     "text": [
      "  (0, 1647)\t1\n",
      "  (0, 1696)\t1\n",
      "['车间 设备 日志']\n",
      "  (0, 1647)\t1\n",
      "  (0, 1696)\t1\n"
     ]
    }
   ],
   "source": [
    "for i in vec.transform([X_test[0]]):\n",
    "    print(i)\n",
    "    \n",
    "print([X_test[0]])\n",
    "print(vec.transform([X_test[0]]))"
   ]
  },
  {
   "cell_type": "code",
   "execution_count": null,
   "metadata": {},
   "outputs": [],
   "source": []
  }
 ],
 "metadata": {
  "kernelspec": {
   "display_name": "Python 3",
   "language": "python",
   "name": "python3"
  },
  "language_info": {
   "codemirror_mode": {
    "name": "ipython",
    "version": 3
   },
   "file_extension": ".py",
   "mimetype": "text/x-python",
   "name": "python",
   "nbconvert_exporter": "python",
   "pygments_lexer": "ipython3",
   "version": "3.6.4"
  }
 },
 "nbformat": 4,
 "nbformat_minor": 2
}
