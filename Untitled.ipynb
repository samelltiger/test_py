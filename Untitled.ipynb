{
 "cells": [
  {
   "cell_type": "code",
   "execution_count": 1,
   "metadata": {},
   "outputs": [],
   "source": [
    "import pandas as pd\n",
    "import numpy as np\n",
    "import matplotlib.pyplot as plt\n",
    "import jieba\n",
    "import gensim\n",
    "import re"
   ]
  },
  {
   "cell_type": "markdown",
   "metadata": {},
   "source": [
    "### 预处理数据"
   ]
  },
  {
   "cell_type": "code",
   "execution_count": 70,
   "metadata": {
    "scrolled": false
   },
   "outputs": [],
   "source": [
    "def read_data(file_name,is_train=True):\n",
    "    data_df = pd.read_csv(file_name,encoding='gbk')\n",
    "    if is_train:\n",
    "        data_df.columns = ['names','price','catgory']\n",
    "    else:\n",
    "        data_df.columns = ['names','price']\n",
    "    data_df['length'] = data_df.names.apply(lambda x:len(x))\n",
    "    return data_df\n",
    "\n",
    "# def cut_seq(x):\n",
    "\n",
    "train_df = read_data('./train.csv')\n",
    "test_df = read_data('./test.csv',is_train=False)\n",
    "\n",
    "stop_word_df = pd.read_csv('./stopwords.txt',sep='\\t',quoting=3,index_col=False,names=['word'])\n",
    "stop_word_df = stop_word_df['word'].values.tolist()\n",
    "\n",
    "train_df['cutted'] = train_df.names.apply( lambda x: jieba.lcut(x) )\n",
    "train_df['cutted'] = train_df.cutted.apply(lambda x: \" \".join([w for w in x if x not in stop_word_df]))\n",
    "\n",
    "test_df['cutted'] = test_df.names.apply( lambda x: jieba.lcut(x) )\n",
    "test_df['cutted'] = test_df.cutted.apply(lambda x: \" \".join([w for w in x if x not in stop_word_df]))"
   ]
  },
  {
   "cell_type": "code",
   "execution_count": 81,
   "metadata": {},
   "outputs": [
    {
     "data": {
      "text/html": [
       "<div>\n",
       "<style scoped>\n",
       "    .dataframe tbody tr th:only-of-type {\n",
       "        vertical-align: middle;\n",
       "    }\n",
       "\n",
       "    .dataframe tbody tr th {\n",
       "        vertical-align: top;\n",
       "    }\n",
       "\n",
       "    .dataframe thead th {\n",
       "        text-align: right;\n",
       "    }\n",
       "</style>\n",
       "<table border=\"1\" class=\"dataframe\">\n",
       "  <thead>\n",
       "    <tr style=\"text-align: right;\">\n",
       "      <th></th>\n",
       "      <th>names</th>\n",
       "      <th>price</th>\n",
       "      <th>length</th>\n",
       "      <th>cutted</th>\n",
       "    </tr>\n",
       "  </thead>\n",
       "  <tbody>\n",
       "    <tr>\n",
       "      <th>1613</th>\n",
       "      <td>轿顶护栏组件</td>\n",
       "      <td>2156</td>\n",
       "      <td>6</td>\n",
       "      <td>轿顶 护栏 组件</td>\n",
       "    </tr>\n",
       "    <tr>\n",
       "      <th>4799</th>\n",
       "      <td>执行元件辅件</td>\n",
       "      <td>1354</td>\n",
       "      <td>6</td>\n",
       "      <td>执行 元件 辅件</td>\n",
       "    </tr>\n",
       "    <tr>\n",
       "      <th>2618</th>\n",
       "      <td>葡萄糖注射液</td>\n",
       "      <td>1265</td>\n",
       "      <td>6</td>\n",
       "      <td>葡萄糖 注射液</td>\n",
       "    </tr>\n",
       "    <tr>\n",
       "      <th>665</th>\n",
       "      <td>儿童短袖T恤</td>\n",
       "      <td>1216</td>\n",
       "      <td>6</td>\n",
       "      <td>儿童 短袖 T恤</td>\n",
       "    </tr>\n",
       "    <tr>\n",
       "      <th>2386</th>\n",
       "      <td>男士休闲裤子</td>\n",
       "      <td>836</td>\n",
       "      <td>6</td>\n",
       "      <td>男士 休闲 裤子</td>\n",
       "    </tr>\n",
       "  </tbody>\n",
       "</table>\n",
       "</div>"
      ],
      "text/plain": [
       "       names  price  length    cutted\n",
       "1613  轿顶护栏组件   2156       6  轿顶 护栏 组件\n",
       "4799  执行元件辅件   1354       6  执行 元件 辅件\n",
       "2618  葡萄糖注射液   1265       6   葡萄糖 注射液\n",
       "665   儿童短袖T恤   1216       6  儿童 短袖 T恤\n",
       "2386  男士休闲裤子    836       6  男士 休闲 裤子"
      ]
     },
     "execution_count": 81,
     "metadata": {},
     "output_type": "execute_result"
    }
   ],
   "source": [
    "#train_df.sort_values(by='length',ascending=False).head()\n",
    "test_df.sort_values(by='price',ascending=False).head()"
   ]
  },
  {
   "cell_type": "markdown",
   "metadata": {},
   "source": [
    "## 把数据提取为list"
   ]
  },
  {
   "cell_type": "code",
   "execution_count": 73,
   "metadata": {},
   "outputs": [],
   "source": [
    "from sklearn.model_selection import train_test_split\n",
    "# 测试集中的文字及y标签\n",
    "X = [i for i in train_df.cutted]\n",
    "Y = [i for i in train_df.catgory]\n",
    "# 测试集中的文字\n",
    "test_text = [i for i in train_df.cutted]\n",
    "\n",
    "X_train,X_test,y_train,y_test = train_test_split(X,Y,test_size=0.3,random_state=10)"
   ]
  },
  {
   "cell_type": "markdown",
   "metadata": {},
   "source": [
    "## 词袋模型"
   ]
  },
  {
   "cell_type": "code",
   "execution_count": 79,
   "metadata": {},
   "outputs": [
    {
     "data": {
      "text/plain": [
       "CountVectorizer(analyzer='word', binary=False, decode_error='strict',\n",
       "        dtype=<class 'numpy.int64'>, encoding='utf-8', input='content',\n",
       "        lowercase=True, max_df=1.0, max_features=4000, min_df=1,\n",
       "        ngram_range=(1, 1), preprocessor=None, stop_words=None,\n",
       "        strip_accents=None, token_pattern='(?u)\\\\b\\\\w\\\\w+\\\\b',\n",
       "        tokenizer=None, vocabulary=None)"
      ]
     },
     "execution_count": 79,
     "metadata": {},
     "output_type": "execute_result"
    }
   ],
   "source": [
    "from sklearn.feature_extraction.text import CountVectorizer\n",
    "\n",
    "vec = CountVectorizer(\n",
    "    analyzer='word',\n",
    "    max_features=4000\n",
    ")\n",
    "vec.fit(X+test_text)"
   ]
  },
  {
   "cell_type": "markdown",
   "metadata": {},
   "source": [
    "## 测试"
   ]
  },
  {
   "cell_type": "code",
   "execution_count": 80,
   "metadata": {},
   "outputs": [
    {
     "name": "stdout",
     "output_type": "stream",
     "text": [
      "0.696\n",
      "[[3.14865395e-03 2.56072336e-04 3.19937770e-02 2.91143675e-02\n",
      "  9.45331389e-03 6.19073706e-01 3.71596771e-02 9.11693847e-02\n",
      "  1.78117879e-01 5.13167939e-04]]\n"
     ]
    }
   ],
   "source": [
    "from sklearn.naive_bayes import MultinomialNB\n",
    "import sklearn\n",
    "\n",
    "classifier = MultinomialNB()\n",
    "classifier.fit(vec.transform(X_train),y_train)\n",
    "print(classifier.score(vec.transform(X_test),y_test))\n",
    "print(classifier.predict_proba(vec.transform([X_test[0]])))"
   ]
  },
  {
   "cell_type": "code",
   "execution_count": 78,
   "metadata": {
    "scrolled": true
   },
   "outputs": [
    {
     "name": "stdout",
     "output_type": "stream",
     "text": [
      "Help on method predict in module sklearn.naive_bayes:\n",
      "\n",
      "predict(X) method of sklearn.naive_bayes.MultinomialNB instance\n",
      "    Perform classification on an array of test vectors X.\n",
      "    \n",
      "    Parameters\n",
      "    ----------\n",
      "    X : array-like, shape = [n_samples, n_features]\n",
      "    \n",
      "    Returns\n",
      "    -------\n",
      "    C : array, shape = [n_samples]\n",
      "        Predicted target values for X\n",
      "\n"
     ]
    }
   ],
   "source": [
    "help(classifier.predict)"
   ]
  },
  {
   "cell_type": "code",
   "execution_count": 60,
   "metadata": {},
   "outputs": [
    {
     "name": "stdout",
     "output_type": "stream",
     "text": [
      "0.655\n"
     ]
    }
   ],
   "source": [
    "from sklearn.svm import SVC\n",
    "\n",
    "classifier = SVC(kernel='linear')\n",
    "classifier.fit(vec.transform(X_train),y_train)\n",
    "print(classifier.score(vec.transform(X_test),y_test))"
   ]
  },
  {
   "cell_type": "markdown",
   "metadata": {},
   "source": [
    "## 该函数可以输出属于每个类的概率"
   ]
  },
  {
   "cell_type": "code",
   "execution_count": 48,
   "metadata": {},
   "outputs": [
    {
     "name": "stdout",
     "output_type": "stream",
     "text": [
      "  (0, 1647)\t1\n",
      "  (0, 1696)\t1\n",
      "['车间 设备 日志']\n",
      "  (0, 1647)\t1\n",
      "  (0, 1696)\t1\n"
     ]
    }
   ],
   "source": [
    "print(vec.transform([X_test[0]]))"
   ]
  },
  {
   "cell_type": "code",
   "execution_count": null,
   "metadata": {},
   "outputs": [],
   "source": []
  }
 ],
 "metadata": {
  "kernelspec": {
   "display_name": "Python 3",
   "language": "python",
   "name": "python3"
  },
  "language_info": {
   "codemirror_mode": {
    "name": "ipython",
    "version": 3
   },
   "file_extension": ".py",
   "mimetype": "text/x-python",
   "name": "python",
   "nbconvert_exporter": "python",
   "pygments_lexer": "ipython3",
   "version": "3.6.4"
  }
 },
 "nbformat": 4,
 "nbformat_minor": 2
}
